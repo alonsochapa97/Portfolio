{
 "cells": [
  {
   "cell_type": "code",
   "execution_count": 76,
   "metadata": {
    "id": "nrZqYmX2Np0p"
   },
   "outputs": [],
   "source": [
    "\n",
    "import requests\n",
    "import json\n",
    "import csv\n",
    "import pandas as pd\n",
    "from pprint import pprint"
   ]
  },
  {
   "cell_type": "markdown",
   "metadata": {
    "id": "BvL7BOdkFtsV"
   },
   "source": [
    "These are  a series of JSON files containing data for the state of Ohio pertaining to infection levels of pertussis (whooping cough). I want to know what year had the greatest number of cases per capita and what the case number was. I also want to know how many projected cases there will be in x number of years."
   ]
  },
  {
   "cell_type": "code",
   "execution_count": 77,
   "metadata": {
    "colab": {
     "base_uri": "https://localhost:8080/"
    },
    "id": "SEXueb_dDEkM",
    "outputId": "d78246e0-4c93-489b-cc9a-1e87aeb34410"
   },
   "outputs": [
    {
     "name": "stdout",
     "output_type": "stream",
     "text": [
      "Drive already mounted at /content/drive; to attempt to forcibly remount, call drive.mount(\"/content/drive\", force_remount=True).\n"
     ]
    }
   ],
   "source": [
    "from google.colab import drive\n",
    "drive.mount('/content/drive')\n",
    "\n",
    "\n",
    "myfile = open('/content/drive/My Drive/INFO 2201/myfiles/1974.json',\"r\")\n",
    "Ohio_1974 = json.loads(myfile.read())\n",
    "\n",
    "myfile2 = open('/content/drive/My Drive/INFO 2201/myfiles/1983.json',\"r\")\n",
    "Ohio_1983 = json.loads(myfile2.read())\n",
    "\n",
    "myfile3 = open('/content/drive/My Drive/INFO 2201/myfiles/1993.json',\"r\")\n",
    "Ohio_1993 = json.loads(myfile3.read())\n",
    "\n",
    "myfile4 = open('/content/drive/My Drive/INFO 2201/myfiles/2005.json',\"r\")\n",
    "Ohio_2005 = json.loads(myfile4.read())\n",
    "\n",
    "myfile5 = open('/content/drive/My Drive/INFO 2201/myfiles/2010.json',\"r\")\n",
    "Ohio_2010 = json.loads(myfile5.read())\n"
   ]
  },
  {
   "cell_type": "markdown",
   "metadata": {
    "id": "owmbDzI5k96K"
   },
   "source": [
    "Ohio data set for 1974"
   ]
  },
  {
   "cell_type": "code",
   "execution_count": 78,
   "metadata": {
    "colab": {
     "base_uri": "https://localhost:8080/"
    },
    "id": "8xn4lgGZumwk",
    "outputId": "f38ae862-6aa5-44e1-a9b1-c7de4261463e"
   },
   "outputs": [
    {
     "data": {
      "text/plain": [
       "{'disease': 'PERTUSSIS',\n",
       " 'increase': 0.19,\n",
       " 'loc': 'OHIO',\n",
       " 'number': 21,\n",
       " 'population': 10770425,\n",
       " 'year': 1974}"
      ]
     },
     "execution_count": 78,
     "metadata": {},
     "output_type": "execute_result"
    }
   ],
   "source": [
    "Ohio_1974"
   ]
  },
  {
   "cell_type": "markdown",
   "metadata": {
    "id": "BfeJIFzZw8mP"
   },
   "source": [
    "\n",
    "\n",
    "1974 cases per capita (per 100,000)"
   ]
  },
  {
   "cell_type": "code",
   "execution_count": 79,
   "metadata": {
    "colab": {
     "base_uri": "https://localhost:8080/"
    },
    "id": "JA0ZzYJQt-WM",
    "outputId": "988f638d-ebb4-4735-9480-40dc97021ecb"
   },
   "outputs": [
    {
     "data": {
      "text/plain": [
       "0.19497837829055029"
      ]
     },
     "execution_count": 79,
     "metadata": {},
     "output_type": "execute_result"
    }
   ],
   "source": [
    "adjustedCases1974 = Ohio_1974['number']/Ohio_1974['population']*100000\n",
    "\n",
    "adjustedCases1974"
   ]
  },
  {
   "cell_type": "markdown",
   "metadata": {
    "id": "5YnAZgFhlQSL"
   },
   "source": [
    "Ohio data set for 1983"
   ]
  },
  {
   "cell_type": "code",
   "execution_count": 80,
   "metadata": {
    "colab": {
     "base_uri": "https://localhost:8080/"
    },
    "id": "lWcn9033umKd",
    "outputId": "6c2b6466-af27-4899-e5b3-0b20da54e9df"
   },
   "outputs": [
    {
     "data": {
      "text/plain": [
       "{'disease': 'PERTUSSIS',\n",
       " 'increase': 1.5000000000000007,\n",
       " 'loc': 'OHIO',\n",
       " 'number': 154,\n",
       " 'population': 10737746,\n",
       " 'year': 1983}"
      ]
     },
     "execution_count": 80,
     "metadata": {},
     "output_type": "execute_result"
    }
   ],
   "source": [
    "Ohio_1983"
   ]
  },
  {
   "cell_type": "markdown",
   "metadata": {
    "id": "VnK3id6JlWpq"
   },
   "source": [
    "1983 cases per capita (per 100,000)"
   ]
  },
  {
   "cell_type": "code",
   "execution_count": 81,
   "metadata": {
    "colab": {
     "base_uri": "https://localhost:8080/"
    },
    "id": "5YRXjjbjuMhU",
    "outputId": "16d6d70e-9313-4eb3-f895-ea0353bd72ca"
   },
   "outputs": [
    {
     "data": {
      "text/plain": [
       "1.434192986125766"
      ]
     },
     "execution_count": 81,
     "metadata": {},
     "output_type": "execute_result"
    }
   ],
   "source": [
    "adjustedCases1983 = Ohio_1983['number']/Ohio_1983['population']*100000\n",
    "\n",
    "adjustedCases1983"
   ]
  },
  {
   "cell_type": "markdown",
   "metadata": {
    "id": "w7aoU32SlbUS"
   },
   "source": [
    "Ohio data set for 1993"
   ]
  },
  {
   "cell_type": "code",
   "execution_count": 82,
   "metadata": {
    "colab": {
     "base_uri": "https://localhost:8080/"
    },
    "id": "TB-b7RJpupkG",
    "outputId": "51e2ac13-302d-4a8d-b7d7-a8ded7bba892"
   },
   "outputs": [
    {
     "data": {
      "text/plain": [
       "{'disease': 'PERTUSSIS',\n",
       " 'increase': 4.970000000000001,\n",
       " 'loc': 'OHIO',\n",
       " 'number': 550,\n",
       " 'population': 11101140,\n",
       " 'year': 1993}"
      ]
     },
     "execution_count": 82,
     "metadata": {},
     "output_type": "execute_result"
    }
   ],
   "source": [
    "Ohio_1993"
   ]
  },
  {
   "cell_type": "markdown",
   "metadata": {
    "id": "ivvFskDHlf0a"
   },
   "source": [
    "1993 cases per capita (per 100,000)"
   ]
  },
  {
   "cell_type": "code",
   "execution_count": 83,
   "metadata": {
    "colab": {
     "base_uri": "https://localhost:8080/"
    },
    "id": "Kg1qQ7Z0uPsV",
    "outputId": "8c4720bc-6ee8-4f04-cb07-7c4fa617cc7f"
   },
   "outputs": [
    {
     "data": {
      "text/plain": [
       "4.954446119948042"
      ]
     },
     "execution_count": 83,
     "metadata": {},
     "output_type": "execute_result"
    }
   ],
   "source": [
    "adjustedCases1993 = Ohio_1993['number']/Ohio_1993['population']*100000\n",
    "\n",
    "adjustedCases1993"
   ]
  },
  {
   "cell_type": "markdown",
   "metadata": {
    "id": "KsFlJjEemltr"
   },
   "source": [
    "Ohio data set for 2005"
   ]
  },
  {
   "cell_type": "code",
   "execution_count": 84,
   "metadata": {
    "colab": {
     "base_uri": "https://localhost:8080/"
    },
    "id": "m1EG0ELJuq_3",
    "outputId": "dc84493e-348e-43fa-facc-c28bd1a0a10b"
   },
   "outputs": [
    {
     "data": {
      "text/plain": [
       "{'disease': 'PERTUSSIS',\n",
       " 'increase': 9.709999999999997,\n",
       " 'loc': 'OHIO',\n",
       " 'number': 1116,\n",
       " 'population': 11475262,\n",
       " 'year': 2005}"
      ]
     },
     "execution_count": 84,
     "metadata": {},
     "output_type": "execute_result"
    }
   ],
   "source": [
    "Ohio_2005"
   ]
  },
  {
   "cell_type": "markdown",
   "metadata": {
    "id": "QmHr05rjmopr"
   },
   "source": [
    "2005 cases per capita (per 100,000)"
   ]
  },
  {
   "cell_type": "code",
   "execution_count": 85,
   "metadata": {
    "colab": {
     "base_uri": "https://localhost:8080/"
    },
    "id": "5MnGHV7luSb1",
    "outputId": "a84ab9e7-7b9a-4f37-9073-6bb19ed2d5a1"
   },
   "outputs": [
    {
     "data": {
      "text/plain": [
       "9.725268146383064"
      ]
     },
     "execution_count": 85,
     "metadata": {},
     "output_type": "execute_result"
    }
   ],
   "source": [
    "adjustedCases2005 = Ohio_2005['number']/Ohio_2005['population']*100000\n",
    "\n",
    "adjustedCases2005"
   ]
  },
  {
   "cell_type": "markdown",
   "metadata": {
    "id": "ryGHIHX4mu8T"
   },
   "source": [
    "Ohio data set for 2010"
   ]
  },
  {
   "cell_type": "code",
   "execution_count": 86,
   "metadata": {
    "colab": {
     "base_uri": "https://localhost:8080/"
    },
    "id": "tISRlOwcusq1",
    "outputId": "c7c40e79-5b80-416c-a154-d1248f645a4a"
   },
   "outputs": [
    {
     "data": {
      "text/plain": [
       "{'disease': 'PERTUSSIS',\n",
       " 'increase': 15.659999999999998,\n",
       " 'loc': 'OHIO',\n",
       " 'number': 1810,\n",
       " 'population': 11532111,\n",
       " 'year': 2010}"
      ]
     },
     "execution_count": 86,
     "metadata": {},
     "output_type": "execute_result"
    }
   ],
   "source": [
    "Ohio_2010"
   ]
  },
  {
   "cell_type": "markdown",
   "metadata": {
    "id": "1UYPKra3mxyL"
   },
   "source": [
    "2010 cases per capita (per 100,000)"
   ]
  },
  {
   "cell_type": "code",
   "execution_count": 87,
   "metadata": {
    "colab": {
     "base_uri": "https://localhost:8080/"
    },
    "id": "bJg407Yi0NwH",
    "outputId": "468d2c42-e673-408e-808e-f42114a3a0ee"
   },
   "outputs": [
    {
     "data": {
      "text/plain": [
       "15.69530504865935"
      ]
     },
     "execution_count": 87,
     "metadata": {},
     "output_type": "execute_result"
    }
   ],
   "source": [
    "adjustedCases2010 = Ohio_2010['number']/Ohio_2010['population']*100000\n",
    "\n",
    "adjustedCases2010"
   ]
  },
  {
   "cell_type": "markdown",
   "metadata": {
    "id": "-lIZ8jtKxCc6"
   },
   "source": [
    "list of yearly per capita cases"
   ]
  },
  {
   "cell_type": "code",
   "execution_count": 88,
   "metadata": {
    "colab": {
     "base_uri": "https://localhost:8080/"
    },
    "id": "c4v2N60HvgPU",
    "outputId": "ed6270cd-6748-40b8-a35b-2a449469ef88"
   },
   "outputs": [
    {
     "data": {
      "text/plain": [
       "[0.19497837829055029,\n",
       " 1.434192986125766,\n",
       " 4.954446119948042,\n",
       " 9.725268146383064,\n",
       " 15.69530504865935]"
      ]
     },
     "execution_count": 88,
     "metadata": {},
     "output_type": "execute_result"
    }
   ],
   "source": [
    "OhioList = [adjustedCases1974,adjustedCases1983,adjustedCases1993,adjustedCases2005,adjustedCases2010]\n",
    "\n",
    "OhioList"
   ]
  },
  {
   "cell_type": "markdown",
   "metadata": {
    "id": "5Sj6yWB_xIgG"
   },
   "source": [
    "max value out of the list of case per capita values"
   ]
  },
  {
   "cell_type": "code",
   "execution_count": 89,
   "metadata": {
    "colab": {
     "base_uri": "https://localhost:8080/"
    },
    "id": "fE47e3w-4Y6x",
    "outputId": "0e623ec3-1396-434d-8d04-a1a8c88435a8"
   },
   "outputs": [
    {
     "name": "stdout",
     "output_type": "stream",
     "text": [
      "The highest per capita number of Pertussis cases occured in 2010\n",
      "The highest value of pertussis cases per capita was 15.69530504865935\n"
     ]
    }
   ],
   "source": [
    "for i in OhioList:\n",
    "  top = max(OhioList)\n",
    "\n",
    "if top == adjustedCases1974:\n",
    "  print(\"The highest per capita number of Pertussis cases occured in 1974\")\n",
    "\n",
    "if top == adjustedCases1983:\n",
    "  print(\"The highest per capita number of Pertussis cases occured in 1983\")\n",
    "\n",
    "if top == adjustedCases1993:\n",
    "  print(\"The highest per capita number of Pertussis cases occured in 1993\")\n",
    "\n",
    "if top == adjustedCases2005:\n",
    "  print(\"The highest per capita number of Pertussis cases occured in 2005\")\n",
    "\n",
    "if top == adjustedCases2010:\n",
    "  print(\"The highest per capita number of Pertussis cases occured in 2010\")\n",
    "\n",
    "print(\"The highest value of pertussis cases per capita was \" + str(top))"
   ]
  },
  {
   "cell_type": "markdown",
   "metadata": {
    "id": "1Vftpr9zxSg-"
   },
   "source": [
    "percent increase per yearly interval"
   ]
  },
  {
   "cell_type": "code",
   "execution_count": 90,
   "metadata": {
    "colab": {
     "base_uri": "https://localhost:8080/"
    },
    "id": "bh_5oO-D6AbJ",
    "outputId": "8e98fe74-f95b-4846-d398-00be2af77e6c"
   },
   "outputs": [
    {
     "data": {
      "text/plain": [
       "[0.43419298612576607, 3.9544461199480416, 8.725268146383064, 14.69530504865935]"
      ]
     },
     "execution_count": 90,
     "metadata": {},
     "output_type": "execute_result"
    }
   ],
   "source": [
    "difference = [(OhioList[1]-OhioList[0]/OhioList[0]),(OhioList[2]-OhioList[1]/OhioList[1]),(OhioList[3]-OhioList[2]/OhioList[2]),(OhioList[4]-OhioList[3]/OhioList[3])]\n",
    "\n",
    "difference\n"
   ]
  },
  {
   "cell_type": "markdown",
   "metadata": {
    "id": "i1DcMnm4xVMw"
   },
   "source": [
    "average percent increase out of all the years"
   ]
  },
  {
   "cell_type": "code",
   "execution_count": 91,
   "metadata": {
    "colab": {
     "base_uri": "https://localhost:8080/"
    },
    "id": "GVtsfi7DCxcM",
    "outputId": "6b1ed619-d58a-4f4f-9a8f-c6ae887608df"
   },
   "outputs": [
    {
     "data": {
      "text/plain": [
       "6.9523030752790556"
      ]
     },
     "execution_count": 91,
     "metadata": {},
     "output_type": "execute_result"
    }
   ],
   "source": [
    "avgDifference = (sum(difference)/len(difference))\n",
    "\n",
    "avgDifference"
   ]
  },
  {
   "cell_type": "markdown",
   "metadata": {
    "id": "056KPV0gxXTs"
   },
   "source": [
    "average number of years per interval"
   ]
  },
  {
   "cell_type": "code",
   "execution_count": 92,
   "metadata": {
    "id": "S7D4WYSD2SOF"
   },
   "outputs": [],
   "source": [
    "avg_year_gap = (Ohio_2010['year']-Ohio_1974['year'])/5"
   ]
  },
  {
   "cell_type": "markdown",
   "metadata": {
    "id": "Ll-XKAm3xeCh"
   },
   "source": [
    "\n",
    "\n",
    "forecast of cases in the future using the latest case data point multipled by the average rate of increase times the number of years inserted.\n",
    "\n",
    "Years variable is divided by average year gap to since the data points are separated by almost a decade."
   ]
  },
  {
   "cell_type": "code",
   "execution_count": 93,
   "metadata": {
    "id": "4mAlkKeDBxWV"
   },
   "outputs": [],
   "source": [
    "\n",
    "def FutureModel(years):\n",
    "\n",
    "  futureCases = adjustedCases2010*(1+(avgDifference*.01))*(years/avg_year_gap)\n",
    "\n",
    "  print(\"The predicted number of cases per 100,000 in \" + str(years) + \" years from 2010\" + \" is \" + str(futureCases) + \" according to historical data\")\n",
    "\n"
   ]
  },
  {
   "cell_type": "code",
   "execution_count": 94,
   "metadata": {
    "colab": {
     "base_uri": "https://localhost:8080/"
    },
    "id": "7P_wSXqoD55O",
    "outputId": "29fe61eb-756a-4004-c797-e264bdeab1c6"
   },
   "outputs": [
    {
     "name": "stdout",
     "output_type": "stream",
     "text": [
      "The predicted number of cases per 100,000 in 50 years from 2010 is 116.57284877938697 according to historical data\n"
     ]
    }
   ],
   "source": [
    "FutureModel(50)"
   ]
  },
  {
   "cell_type": "markdown",
   "metadata": {
    "id": "9eplzj-EGZ8L"
   },
   "source": [
    "This is a csv file showing the levels of antibiotic DDD use (daily diagnosed dose) in different geographical regions across the world from the year 2000 to the year 2018. I want to know the percent change in DDD use for each region as well as the overall percent increase worldwide by aggregating the average of all of the region's percentage changes."
   ]
  },
  {
   "cell_type": "code",
   "execution_count": 95,
   "metadata": {
    "id": "-0GEqxh2da4R"
   },
   "outputs": [],
   "source": [
    "DDDs = list()\n",
    "\n",
    "with open(\"/content/drive/My Drive/INFO 2201/myfiles/DDDs.csv\",\"r\") as myfile:\n",
    "\n",
    "  csvReader = csv.reader(myfile, delimiter=\",\", quotechar='\"')\n",
    "\n",
    "  next(csvReader)\n",
    "\n",
    "  for row in csvReader:\n",
    "    DDDs.append(row)\n"
   ]
  },
  {
   "cell_type": "code",
   "execution_count": 96,
   "metadata": {
    "colab": {
     "base_uri": "https://localhost:8080/",
     "height": 707
    },
    "id": "76_gIbNOH8q6",
    "outputId": "abe12c5a-98f7-4bde-88a9-7546860ae820"
   },
   "outputs": [
    {
     "data": {
      "text/html": [
       "\n",
       "\n",
       "  <div id=\"df-2a07c88c-0729-485b-9441-06ebd5acf250\">\n",
       "    <div class=\"colab-df-container\">\n",
       "      <div>\n",
       "<style scoped>\n",
       "    .dataframe tbody tr th:only-of-type {\n",
       "        vertical-align: middle;\n",
       "    }\n",
       "\n",
       "    .dataframe tbody tr th {\n",
       "        vertical-align: top;\n",
       "    }\n",
       "\n",
       "    .dataframe thead th {\n",
       "        text-align: right;\n",
       "    }\n",
       "</style>\n",
       "<table border=\"1\" class=\"dataframe\">\n",
       "  <thead>\n",
       "    <tr style=\"text-align: right;\">\n",
       "      <th></th>\n",
       "      <th>year</th>\n",
       "      <th>Latin America and Caribbean</th>\n",
       "      <th>Central europe, eastern Europe, and central Asia</th>\n",
       "      <th>South Asia</th>\n",
       "      <th>Southeast Asia, east Asia, and Oceania</th>\n",
       "      <th>Sub-Saharan Africa</th>\n",
       "      <th>North Africa and Middle East</th>\n",
       "    </tr>\n",
       "  </thead>\n",
       "  <tbody>\n",
       "    <tr>\n",
       "      <th>0</th>\n",
       "      <td>2000</td>\n",
       "      <td>7.6</td>\n",
       "      <td>9.9</td>\n",
       "      <td>7.8</td>\n",
       "      <td>7.7</td>\n",
       "      <td>6.5</td>\n",
       "      <td>12.4</td>\n",
       "    </tr>\n",
       "    <tr>\n",
       "      <th>1</th>\n",
       "      <td>2001</td>\n",
       "      <td>7.4</td>\n",
       "      <td>10.3</td>\n",
       "      <td>8.0</td>\n",
       "      <td>8.2</td>\n",
       "      <td>6.8</td>\n",
       "      <td>13.2</td>\n",
       "    </tr>\n",
       "    <tr>\n",
       "      <th>2</th>\n",
       "      <td>2002</td>\n",
       "      <td>7.1</td>\n",
       "      <td>10.6</td>\n",
       "      <td>8.2</td>\n",
       "      <td>8.4</td>\n",
       "      <td>7.1</td>\n",
       "      <td>13.8</td>\n",
       "    </tr>\n",
       "    <tr>\n",
       "      <th>3</th>\n",
       "      <td>2003</td>\n",
       "      <td>7.3</td>\n",
       "      <td>10.8</td>\n",
       "      <td>8.5</td>\n",
       "      <td>8.6</td>\n",
       "      <td>7.4</td>\n",
       "      <td>14.3</td>\n",
       "    </tr>\n",
       "    <tr>\n",
       "      <th>4</th>\n",
       "      <td>2004</td>\n",
       "      <td>7.5</td>\n",
       "      <td>11.2</td>\n",
       "      <td>9.0</td>\n",
       "      <td>8.3</td>\n",
       "      <td>7.7</td>\n",
       "      <td>14.8</td>\n",
       "    </tr>\n",
       "    <tr>\n",
       "      <th>5</th>\n",
       "      <td>2005</td>\n",
       "      <td>7.8</td>\n",
       "      <td>11.3</td>\n",
       "      <td>9.2</td>\n",
       "      <td>8.2</td>\n",
       "      <td>7.9</td>\n",
       "      <td>15.5</td>\n",
       "    </tr>\n",
       "    <tr>\n",
       "      <th>6</th>\n",
       "      <td>2006</td>\n",
       "      <td>8.4</td>\n",
       "      <td>11.3</td>\n",
       "      <td>9.7</td>\n",
       "      <td>7.8</td>\n",
       "      <td>8.1</td>\n",
       "      <td>16.2</td>\n",
       "    </tr>\n",
       "    <tr>\n",
       "      <th>7</th>\n",
       "      <td>2007</td>\n",
       "      <td>8.7</td>\n",
       "      <td>11.5</td>\n",
       "      <td>9.9</td>\n",
       "      <td>7.8</td>\n",
       "      <td>8.3</td>\n",
       "      <td>16.9</td>\n",
       "    </tr>\n",
       "    <tr>\n",
       "      <th>8</th>\n",
       "      <td>2008</td>\n",
       "      <td>9.2</td>\n",
       "      <td>11.6</td>\n",
       "      <td>10.3</td>\n",
       "      <td>8.3</td>\n",
       "      <td>8.5</td>\n",
       "      <td>17.6</td>\n",
       "    </tr>\n",
       "    <tr>\n",
       "      <th>9</th>\n",
       "      <td>2009</td>\n",
       "      <td>9.5</td>\n",
       "      <td>11.8</td>\n",
       "      <td>10.7</td>\n",
       "      <td>8.3</td>\n",
       "      <td>8.7</td>\n",
       "      <td>18.3</td>\n",
       "    </tr>\n",
       "    <tr>\n",
       "      <th>10</th>\n",
       "      <td>2010</td>\n",
       "      <td>10.1</td>\n",
       "      <td>12.2</td>\n",
       "      <td>10.9</td>\n",
       "      <td>8.5</td>\n",
       "      <td>8.9</td>\n",
       "      <td>18.9</td>\n",
       "    </tr>\n",
       "    <tr>\n",
       "      <th>11</th>\n",
       "      <td>2011</td>\n",
       "      <td>10.4</td>\n",
       "      <td>12.5</td>\n",
       "      <td>11.4</td>\n",
       "      <td>8.7</td>\n",
       "      <td>9.1</td>\n",
       "      <td>19.4</td>\n",
       "    </tr>\n",
       "    <tr>\n",
       "      <th>12</th>\n",
       "      <td>2012</td>\n",
       "      <td>10.6</td>\n",
       "      <td>12.7</td>\n",
       "      <td>11.6</td>\n",
       "      <td>8.5</td>\n",
       "      <td>9.4</td>\n",
       "      <td>20.1</td>\n",
       "    </tr>\n",
       "    <tr>\n",
       "      <th>13</th>\n",
       "      <td>2013</td>\n",
       "      <td>10.3</td>\n",
       "      <td>12.8</td>\n",
       "      <td>11.8</td>\n",
       "      <td>8.6</td>\n",
       "      <td>9.7</td>\n",
       "      <td>20.8</td>\n",
       "    </tr>\n",
       "    <tr>\n",
       "      <th>14</th>\n",
       "      <td>2014</td>\n",
       "      <td>10.2</td>\n",
       "      <td>13.2</td>\n",
       "      <td>12.4</td>\n",
       "      <td>8.8</td>\n",
       "      <td>10.0</td>\n",
       "      <td>21.5</td>\n",
       "    </tr>\n",
       "    <tr>\n",
       "      <th>15</th>\n",
       "      <td>2015</td>\n",
       "      <td>10.5</td>\n",
       "      <td>13.6</td>\n",
       "      <td>13.0</td>\n",
       "      <td>9.0</td>\n",
       "      <td>10.3</td>\n",
       "      <td>21.8</td>\n",
       "    </tr>\n",
       "    <tr>\n",
       "      <th>16</th>\n",
       "      <td>2016</td>\n",
       "      <td>10.6</td>\n",
       "      <td>13.9</td>\n",
       "      <td>13.6</td>\n",
       "      <td>9.1</td>\n",
       "      <td>10.6</td>\n",
       "      <td>22.5</td>\n",
       "    </tr>\n",
       "    <tr>\n",
       "      <th>17</th>\n",
       "      <td>2017</td>\n",
       "      <td>10.8</td>\n",
       "      <td>14.1</td>\n",
       "      <td>14.2</td>\n",
       "      <td>8.9</td>\n",
       "      <td>10.9</td>\n",
       "      <td>23.2</td>\n",
       "    </tr>\n",
       "    <tr>\n",
       "      <th>18</th>\n",
       "      <td>2018</td>\n",
       "      <td>11.1</td>\n",
       "      <td>14.5</td>\n",
       "      <td>14.8</td>\n",
       "      <td>8.8</td>\n",
       "      <td>11.2</td>\n",
       "      <td>23.9</td>\n",
       "    </tr>\n",
       "  </tbody>\n",
       "</table>\n",
       "</div>\n",
       "      <button class=\"colab-df-convert\" onclick=\"convertToInteractive('df-2a07c88c-0729-485b-9441-06ebd5acf250')\"\n",
       "              title=\"Convert this dataframe to an interactive table.\"\n",
       "              style=\"display:none;\">\n",
       "\n",
       "  <svg xmlns=\"http://www.w3.org/2000/svg\" height=\"24px\"viewBox=\"0 0 24 24\"\n",
       "       width=\"24px\">\n",
       "    <path d=\"M0 0h24v24H0V0z\" fill=\"none\"/>\n",
       "    <path d=\"M18.56 5.44l.94 2.06.94-2.06 2.06-.94-2.06-.94-.94-2.06-.94 2.06-2.06.94zm-11 1L8.5 8.5l.94-2.06 2.06-.94-2.06-.94L8.5 2.5l-.94 2.06-2.06.94zm10 10l.94 2.06.94-2.06 2.06-.94-2.06-.94-.94-2.06-.94 2.06-2.06.94z\"/><path d=\"M17.41 7.96l-1.37-1.37c-.4-.4-.92-.59-1.43-.59-.52 0-1.04.2-1.43.59L10.3 9.45l-7.72 7.72c-.78.78-.78 2.05 0 2.83L4 21.41c.39.39.9.59 1.41.59.51 0 1.02-.2 1.41-.59l7.78-7.78 2.81-2.81c.8-.78.8-2.07 0-2.86zM5.41 20L4 18.59l7.72-7.72 1.47 1.35L5.41 20z\"/>\n",
       "  </svg>\n",
       "      </button>\n",
       "\n",
       "\n",
       "\n",
       "    <div id=\"df-0747b6b8-3e36-4e7d-87a6-61cbd51bc990\">\n",
       "      <button class=\"colab-df-quickchart\" onclick=\"quickchart('df-0747b6b8-3e36-4e7d-87a6-61cbd51bc990')\"\n",
       "              title=\"Suggest charts.\"\n",
       "              style=\"display:none;\">\n",
       "\n",
       "<svg xmlns=\"http://www.w3.org/2000/svg\" height=\"24px\"viewBox=\"0 0 24 24\"\n",
       "     width=\"24px\">\n",
       "    <g>\n",
       "        <path d=\"M19 3H5c-1.1 0-2 .9-2 2v14c0 1.1.9 2 2 2h14c1.1 0 2-.9 2-2V5c0-1.1-.9-2-2-2zM9 17H7v-7h2v7zm4 0h-2V7h2v10zm4 0h-2v-4h2v4z\"/>\n",
       "    </g>\n",
       "</svg>\n",
       "      </button>\n",
       "    </div>\n",
       "\n",
       "<style>\n",
       "  .colab-df-quickchart {\n",
       "    background-color: #E8F0FE;\n",
       "    border: none;\n",
       "    border-radius: 50%;\n",
       "    cursor: pointer;\n",
       "    display: none;\n",
       "    fill: #1967D2;\n",
       "    height: 32px;\n",
       "    padding: 0 0 0 0;\n",
       "    width: 32px;\n",
       "  }\n",
       "\n",
       "  .colab-df-quickchart:hover {\n",
       "    background-color: #E2EBFA;\n",
       "    box-shadow: 0px 1px 2px rgba(60, 64, 67, 0.3), 0px 1px 3px 1px rgba(60, 64, 67, 0.15);\n",
       "    fill: #174EA6;\n",
       "  }\n",
       "\n",
       "  [theme=dark] .colab-df-quickchart {\n",
       "    background-color: #3B4455;\n",
       "    fill: #D2E3FC;\n",
       "  }\n",
       "\n",
       "  [theme=dark] .colab-df-quickchart:hover {\n",
       "    background-color: #434B5C;\n",
       "    box-shadow: 0px 1px 3px 1px rgba(0, 0, 0, 0.15);\n",
       "    filter: drop-shadow(0px 1px 2px rgba(0, 0, 0, 0.3));\n",
       "    fill: #FFFFFF;\n",
       "  }\n",
       "</style>\n",
       "\n",
       "    <script>\n",
       "      async function quickchart(key) {\n",
       "        const containerElement = document.querySelector('#' + key);\n",
       "        const charts = await google.colab.kernel.invokeFunction(\n",
       "            'suggestCharts', [key], {});\n",
       "      }\n",
       "    </script>\n",
       "\n",
       "      <script>\n",
       "\n",
       "function displayQuickchartButton(domScope) {\n",
       "  let quickchartButtonEl =\n",
       "    domScope.querySelector('#df-0747b6b8-3e36-4e7d-87a6-61cbd51bc990 button.colab-df-quickchart');\n",
       "  quickchartButtonEl.style.display =\n",
       "    google.colab.kernel.accessAllowed ? 'block' : 'none';\n",
       "}\n",
       "\n",
       "        displayQuickchartButton(document);\n",
       "      </script>\n",
       "      <style>\n",
       "    .colab-df-container {\n",
       "      display:flex;\n",
       "      flex-wrap:wrap;\n",
       "      gap: 12px;\n",
       "    }\n",
       "\n",
       "    .colab-df-convert {\n",
       "      background-color: #E8F0FE;\n",
       "      border: none;\n",
       "      border-radius: 50%;\n",
       "      cursor: pointer;\n",
       "      display: none;\n",
       "      fill: #1967D2;\n",
       "      height: 32px;\n",
       "      padding: 0 0 0 0;\n",
       "      width: 32px;\n",
       "    }\n",
       "\n",
       "    .colab-df-convert:hover {\n",
       "      background-color: #E2EBFA;\n",
       "      box-shadow: 0px 1px 2px rgba(60, 64, 67, 0.3), 0px 1px 3px 1px rgba(60, 64, 67, 0.15);\n",
       "      fill: #174EA6;\n",
       "    }\n",
       "\n",
       "    [theme=dark] .colab-df-convert {\n",
       "      background-color: #3B4455;\n",
       "      fill: #D2E3FC;\n",
       "    }\n",
       "\n",
       "    [theme=dark] .colab-df-convert:hover {\n",
       "      background-color: #434B5C;\n",
       "      box-shadow: 0px 1px 3px 1px rgba(0, 0, 0, 0.15);\n",
       "      filter: drop-shadow(0px 1px 2px rgba(0, 0, 0, 0.3));\n",
       "      fill: #FFFFFF;\n",
       "    }\n",
       "  </style>\n",
       "\n",
       "      <script>\n",
       "        const buttonEl =\n",
       "          document.querySelector('#df-2a07c88c-0729-485b-9441-06ebd5acf250 button.colab-df-convert');\n",
       "        buttonEl.style.display =\n",
       "          google.colab.kernel.accessAllowed ? 'block' : 'none';\n",
       "\n",
       "        async function convertToInteractive(key) {\n",
       "          const element = document.querySelector('#df-2a07c88c-0729-485b-9441-06ebd5acf250');\n",
       "          const dataTable =\n",
       "            await google.colab.kernel.invokeFunction('convertToInteractive',\n",
       "                                                     [key], {});\n",
       "          if (!dataTable) return;\n",
       "\n",
       "          const docLinkHtml = 'Like what you see? Visit the ' +\n",
       "            '<a target=\"_blank\" href=https://colab.research.google.com/notebooks/data_table.ipynb>data table notebook</a>'\n",
       "            + ' to learn more about interactive tables.';\n",
       "          element.innerHTML = '';\n",
       "          dataTable['output_type'] = 'display_data';\n",
       "          await google.colab.output.renderOutput(dataTable, element);\n",
       "          const docLink = document.createElement('div');\n",
       "          docLink.innerHTML = docLinkHtml;\n",
       "          element.appendChild(docLink);\n",
       "        }\n",
       "      </script>\n",
       "    </div>\n",
       "  </div>\n"
      ],
      "text/plain": [
       "    year  Latin America and Caribbean  \\\n",
       "0   2000                          7.6   \n",
       "1   2001                          7.4   \n",
       "2   2002                          7.1   \n",
       "3   2003                          7.3   \n",
       "4   2004                          7.5   \n",
       "5   2005                          7.8   \n",
       "6   2006                          8.4   \n",
       "7   2007                          8.7   \n",
       "8   2008                          9.2   \n",
       "9   2009                          9.5   \n",
       "10  2010                         10.1   \n",
       "11  2011                         10.4   \n",
       "12  2012                         10.6   \n",
       "13  2013                         10.3   \n",
       "14  2014                         10.2   \n",
       "15  2015                         10.5   \n",
       "16  2016                         10.6   \n",
       "17  2017                         10.8   \n",
       "18  2018                         11.1   \n",
       "\n",
       "    Central europe, eastern Europe, and central Asia  South Asia  \\\n",
       "0                                                9.9         7.8   \n",
       "1                                               10.3         8.0   \n",
       "2                                               10.6         8.2   \n",
       "3                                               10.8         8.5   \n",
       "4                                               11.2         9.0   \n",
       "5                                               11.3         9.2   \n",
       "6                                               11.3         9.7   \n",
       "7                                               11.5         9.9   \n",
       "8                                               11.6        10.3   \n",
       "9                                               11.8        10.7   \n",
       "10                                              12.2        10.9   \n",
       "11                                              12.5        11.4   \n",
       "12                                              12.7        11.6   \n",
       "13                                              12.8        11.8   \n",
       "14                                              13.2        12.4   \n",
       "15                                              13.6        13.0   \n",
       "16                                              13.9        13.6   \n",
       "17                                              14.1        14.2   \n",
       "18                                              14.5        14.8   \n",
       "\n",
       "    Southeast Asia, east Asia, and Oceania  Sub-Saharan Africa  \\\n",
       "0                                      7.7                 6.5   \n",
       "1                                      8.2                 6.8   \n",
       "2                                      8.4                 7.1   \n",
       "3                                      8.6                 7.4   \n",
       "4                                      8.3                 7.7   \n",
       "5                                      8.2                 7.9   \n",
       "6                                      7.8                 8.1   \n",
       "7                                      7.8                 8.3   \n",
       "8                                      8.3                 8.5   \n",
       "9                                      8.3                 8.7   \n",
       "10                                     8.5                 8.9   \n",
       "11                                     8.7                 9.1   \n",
       "12                                     8.5                 9.4   \n",
       "13                                     8.6                 9.7   \n",
       "14                                     8.8                10.0   \n",
       "15                                     9.0                10.3   \n",
       "16                                     9.1                10.6   \n",
       "17                                     8.9                10.9   \n",
       "18                                     8.8                11.2   \n",
       "\n",
       "    North Africa and Middle East  \n",
       "0                           12.4  \n",
       "1                           13.2  \n",
       "2                           13.8  \n",
       "3                           14.3  \n",
       "4                           14.8  \n",
       "5                           15.5  \n",
       "6                           16.2  \n",
       "7                           16.9  \n",
       "8                           17.6  \n",
       "9                           18.3  \n",
       "10                          18.9  \n",
       "11                          19.4  \n",
       "12                          20.1  \n",
       "13                          20.8  \n",
       "14                          21.5  \n",
       "15                          21.8  \n",
       "16                          22.5  \n",
       "17                          23.2  \n",
       "18                          23.9  "
      ]
     },
     "execution_count": 96,
     "metadata": {},
     "output_type": "execute_result"
    }
   ],
   "source": [
    "import pandas as pd\n",
    "\n",
    "DDD_panda = pd.read_csv(\"/content/drive/My Drive/INFO 2201/myfiles/Annual DDD per day per 1000.csv\")\n",
    "\n",
    "DDD_panda"
   ]
  },
  {
   "cell_type": "code",
   "execution_count": 97,
   "metadata": {
    "colab": {
     "base_uri": "https://localhost:8080/"
    },
    "id": "GTChIpJwIDuQ",
    "outputId": "9497d638-356c-4c8d-ced2-8dbfc161b8df"
   },
   "outputs": [
    {
     "name": "stdout",
     "output_type": "stream",
     "text": [
      "<class 'pandas.core.frame.DataFrame'>\n",
      "RangeIndex: 19 entries, 0 to 18\n",
      "Data columns (total 7 columns):\n",
      " #   Column                                            Non-Null Count  Dtype  \n",
      "---  ------                                            --------------  -----  \n",
      " 0   year                                              19 non-null     int64  \n",
      " 1   Latin America and Caribbean                       19 non-null     float64\n",
      " 2   Central europe, eastern Europe, and central Asia  19 non-null     float64\n",
      " 3   South Asia                                        19 non-null     float64\n",
      " 4   Southeast Asia, east Asia, and Oceania            19 non-null     float64\n",
      " 5   Sub-Saharan Africa                                19 non-null     float64\n",
      " 6   North Africa and Middle East                      19 non-null     float64\n",
      "dtypes: float64(6), int64(1)\n",
      "memory usage: 1.2 KB\n"
     ]
    }
   ],
   "source": [
    "DDD_panda.info()"
   ]
  },
  {
   "cell_type": "code",
   "execution_count": 98,
   "metadata": {
    "colab": {
     "base_uri": "https://localhost:8080/"
    },
    "id": "zFUSsNwNefC0",
    "outputId": "f32d5649-0af3-41ea-f05e-88d59d55f501"
   },
   "outputs": [
    {
     "data": {
      "text/plain": [
       "[['Latin America and Caribbean',\n",
       "  '7.6',\n",
       "  '7.4',\n",
       "  '7.1',\n",
       "  '7.3',\n",
       "  '7.5',\n",
       "  '7.8',\n",
       "  '8.4',\n",
       "  '8.7',\n",
       "  '9.2',\n",
       "  '9.5',\n",
       "  '10.1',\n",
       "  '10.4',\n",
       "  '10.6',\n",
       "  '10.3',\n",
       "  '10.2',\n",
       "  '10.5',\n",
       "  '10.6',\n",
       "  '10.8',\n",
       "  '11.1'],\n",
       " ['Central europe, eastern Europe, and central Asia',\n",
       "  '9.9',\n",
       "  '10.3',\n",
       "  '10.6',\n",
       "  '10.8',\n",
       "  '11.2',\n",
       "  '11.3',\n",
       "  '11.3',\n",
       "  '11.5',\n",
       "  '11.6',\n",
       "  '11.8',\n",
       "  '12.2',\n",
       "  '12.5',\n",
       "  '12.7',\n",
       "  '12.8',\n",
       "  '13.2',\n",
       "  '13.6',\n",
       "  '13.9',\n",
       "  '14.1',\n",
       "  '14.5'],\n",
       " ['South Asia',\n",
       "  '7.8',\n",
       "  '8',\n",
       "  '8.2',\n",
       "  '8.5',\n",
       "  '9',\n",
       "  '9.2',\n",
       "  '9.7',\n",
       "  '9.9',\n",
       "  '10.3',\n",
       "  '10.7',\n",
       "  '10.9',\n",
       "  '11.4',\n",
       "  '11.6',\n",
       "  '11.8',\n",
       "  '12.4',\n",
       "  '13',\n",
       "  '13.6',\n",
       "  '14.2',\n",
       "  '14.8'],\n",
       " ['Southeast Asia, east Asia, and Oceania',\n",
       "  '7.7',\n",
       "  '8.2',\n",
       "  '8.4',\n",
       "  '8.6',\n",
       "  '8.3',\n",
       "  '8.2',\n",
       "  '7.8',\n",
       "  '7.8',\n",
       "  '8.3',\n",
       "  '8.3',\n",
       "  '8.5',\n",
       "  '8.7',\n",
       "  '8.5',\n",
       "  '8.6',\n",
       "  '8.8',\n",
       "  '8.8',\n",
       "  '9.1',\n",
       "  '8.9',\n",
       "  '8.8'],\n",
       " ['Sub-Saharan Africa',\n",
       "  '6.5',\n",
       "  '6.8',\n",
       "  '7.1',\n",
       "  '7.4',\n",
       "  '7.7',\n",
       "  '7.9',\n",
       "  '8.1',\n",
       "  '8.3',\n",
       "  '8.5',\n",
       "  '8.7',\n",
       "  '8.9',\n",
       "  '9.1',\n",
       "  '9.4',\n",
       "  '9.7',\n",
       "  '10',\n",
       "  '10.3',\n",
       "  '10.6',\n",
       "  '10.9',\n",
       "  '11.2'],\n",
       " ['North Africa and Middle East',\n",
       "  '12.4',\n",
       "  '13.2',\n",
       "  '13.8',\n",
       "  '14.3',\n",
       "  '14.8',\n",
       "  '15.5',\n",
       "  '16.2',\n",
       "  '16.9',\n",
       "  '17.6',\n",
       "  '18.3',\n",
       "  '18.9',\n",
       "  '19.4',\n",
       "  '20.1',\n",
       "  '20.8',\n",
       "  '21.5',\n",
       "  '21.8',\n",
       "  '22.5',\n",
       "  '23.2',\n",
       "  '23.9']]"
      ]
     },
     "execution_count": 98,
     "metadata": {},
     "output_type": "execute_result"
    }
   ],
   "source": [
    "DDDs"
   ]
  },
  {
   "cell_type": "markdown",
   "metadata": {
    "id": "DmArBV0hxkSM"
   },
   "source": [
    "indexed columns per region"
   ]
  },
  {
   "cell_type": "code",
   "execution_count": 99,
   "metadata": {
    "id": "QRHYUGy2ewGs"
   },
   "outputs": [],
   "source": [
    "LA_C = DDDs[0]\n",
    "CE_CA = DDDs[1]\n",
    "SA = DDDs[2]\n",
    "SEA_EA_OC = DDDs[3]\n",
    "SSA = DDDs[4]\n",
    "NA_ME = DDDs[5]\n"
   ]
  },
  {
   "cell_type": "code",
   "execution_count": 100,
   "metadata": {
    "colab": {
     "base_uri": "https://localhost:8080/"
    },
    "id": "ae5Jc8cLM8-j",
    "outputId": "27960a3d-f169-4f21-972c-8f084f035bbf"
   },
   "outputs": [
    {
     "data": {
      "text/plain": [
       "['Southeast Asia, east Asia, and Oceania',\n",
       " '7.7',\n",
       " '8.2',\n",
       " '8.4',\n",
       " '8.6',\n",
       " '8.3',\n",
       " '8.2',\n",
       " '7.8',\n",
       " '7.8',\n",
       " '8.3',\n",
       " '8.3',\n",
       " '8.5',\n",
       " '8.7',\n",
       " '8.5',\n",
       " '8.6',\n",
       " '8.8',\n",
       " '8.8',\n",
       " '9.1',\n",
       " '8.9',\n",
       " '8.8']"
      ]
     },
     "execution_count": 100,
     "metadata": {},
     "output_type": "execute_result"
    }
   ],
   "source": [
    "DDDs[3]"
   ]
  },
  {
   "cell_type": "markdown",
   "metadata": {
    "id": "QaOgaRtlxr_r"
   },
   "source": [
    "indexed year per region"
   ]
  },
  {
   "cell_type": "code",
   "execution_count": 101,
   "metadata": {
    "id": "N3qHQVXW3KOp"
   },
   "outputs": [],
   "source": [
    "LA_C_2000 = LA_C[1]\n",
    "LA_C_2018 = LA_C[19]\n",
    "\n",
    "CE_CA_2000 = CE_CA[1]\n",
    "CE_CA_2018 = CE_CA[19]\n",
    "\n",
    "SA_2000 = SA[1]\n",
    "SA_2018 = SA[19]\n",
    "\n",
    "SEA_EA_OC_2000 = SEA_EA_OC[1]\n",
    "SEA_EA_OC_2018 = SEA_EA_OC[19]\n",
    "\n",
    "SSA_2000 = SSA[1]\n",
    "SSA_2018 = SSA[19]\n",
    "\n",
    "NA_ME_2000 = NA_ME[1]\n",
    "NA_ME_2018 = NA_ME[19]\n"
   ]
  },
  {
   "cell_type": "markdown",
   "metadata": {
    "id": "MDHiLWt2xxDg"
   },
   "source": [
    "finds average increase percentage in DDD use per region"
   ]
  },
  {
   "cell_type": "code",
   "execution_count": 102,
   "metadata": {
    "id": "ocFXMYI24BI3"
   },
   "outputs": [],
   "source": [
    "increase_LA_C = (float(LA_C_2018) - float(LA_C_2000))/float(LA_C_2000)\n",
    "increase_CE_CA = (float(CE_CA_2018) - float(CE_CA_2000))/float(CE_CA_2000)\n",
    "increase_SA = (float(SA_2018) - float(SA_2000))/float(SA_2000)\n",
    "increase_SEA_EA_OC = (float(SEA_EA_OC_2018) - float(SEA_EA_OC_2000))/float(SEA_EA_OC_2000)\n",
    "increase_SSA = (float(SSA_2018) - float(SSA_2000))/float(SSA_2000)\n",
    "increase_NA_ME = (float(SSA_2018) - float(SSA_2000))/float(SSA_2000)\n",
    "\n",
    "increase_agg = (increase_LA_C + increase_CE_CA + increase_SA + increase_SEA_EA_OC + increase_SSA + increase_NA_ME) / 6"
   ]
  },
  {
   "cell_type": "code",
   "execution_count": 103,
   "metadata": {
    "colab": {
     "base_uri": "https://localhost:8080/"
    },
    "id": "B5nKORiF8EHW",
    "outputId": "ca0717a9-dadc-41ce-a167-5194a16ef300"
   },
   "outputs": [
    {
     "name": "stdout",
     "output_type": "stream",
     "text": [
      "The percent increase in the Latin America and Caribbean region from 2000 to 2018 in DDDs was 46.05263157894737 percent\n",
      "The percent increase in the Central europe, eastern Europe, and central Asia region from 2000 to 2018 in DDDs was 46.46464646464646 percent\n",
      "The percent increase in the South Asia region from 2000 to 2018 in DDDs was 89.74358974358975 percent\n",
      "The percent increase in the Southeast Asia, east Asia, and Oceania region from 2000 to 2018 in DDDs was 14.285714285714294 percent\n",
      "The percent increase in the Sub-Saharan Africa region from 2000 to 2018 in DDDs was 72.30769230769229 percent\n",
      "The percent increase in the North Africa and Middle East region from 2000 to 2018 in DDDs was 72.30769230769229 pecent\n",
      "The average increase amongst all of the regions was 56.860327781380406 percent\n"
     ]
    }
   ],
   "source": [
    "print(\"The percent increase in the \" + str(LA_C[0]) + \" region from 2000 to 2018 in DDDs was \" + (str(increase_LA_C*100)) + \" percent\")\n",
    "print(\"The percent increase in the \" + str(CE_CA[0]) + \" region from 2000 to 2018 in DDDs was \" + (str(increase_CE_CA*100)) + \" percent\")\n",
    "print(\"The percent increase in the \" + str(SA[0]) + \" region from 2000 to 2018 in DDDs was \" + (str(increase_SA*100)) + \" percent\")\n",
    "print(\"The percent increase in the \" + str(SEA_EA_OC[0]) + \" region from 2000 to 2018 in DDDs was \" + (str(increase_SEA_EA_OC*100)) + \" percent\")\n",
    "print(\"The percent increase in the \" + str(SSA[0]) + \" region from 2000 to 2018 in DDDs was \" + (str(increase_SSA*100)) + \" percent\")\n",
    "print(\"The percent increase in the \" + str(NA_ME[0]) + \" region from 2000 to 2018 in DDDs was \" + str(increase_NA_ME*100) + \" pecent\")\n",
    "\n",
    "print(\"The average increase amongst all of the regions was \" + (str(increase_agg*100)) + \" percent\")\n",
    "\n"
   ]
  },
  {
   "cell_type": "code",
   "execution_count": 104,
   "metadata": {
    "colab": {
     "base_uri": "https://localhost:8080/",
     "height": 489
    },
    "id": "bbIkhGK6Mn5p",
    "outputId": "be37f619-5055-4464-8c71-500d46fbd14e"
   },
   "outputs": [
    {
     "data": {
      "text/plain": [
       "<Axes: title={'center': 'DDD use in Sub-Saharan Africa'}, xlabel='year'>"
      ]
     },
     "execution_count": 104,
     "metadata": {},
     "output_type": "execute_result"
    },
    {
     "data": {
      "image/png": "[encoded data removed]",
      "text/plain": [
       "<Figure size 640x480 with 1 Axes>"
      ]
     },
     "metadata": {},
     "output_type": "display_data"
    }
   ],
   "source": [
    "DDD_panda.groupby(\"year\")[\"Sub-Saharan Africa\"].agg([sum]).plot(title = \"DDD use in Sub-Saharan Africa\")\n"
   ]
  },
  {
   "cell_type": "code",
   "execution_count": 105,
   "metadata": {
    "colab": {
     "base_uri": "https://localhost:8080/",
     "height": 489
    },
    "id": "ZzKc6HNdM3hJ",
    "outputId": "8a785ce1-5b49-45a0-b207-19d047d5bbe4"
   },
   "outputs": [
    {
     "data": {
      "text/plain": [
       "<Axes: title={'center': ' DDD use in Latin America and Caribbean'}, xlabel='year'>"
      ]
     },
     "execution_count": 105,
     "metadata": {},
     "output_type": "execute_result"
    },
    {
     "data": {
      "image/png": "[encoded data removed]",
      "text/plain": [
       "<Figure size 640x480 with 1 Axes>"
      ]
     },
     "metadata": {},
     "output_type": "display_data"
    }
   ],
   "source": [
    "DDD_panda.groupby(\"year\")[\"Latin America and Caribbean\"].agg([sum]).plot(title = \" DDD use in Latin America and Caribbean\")"
   ]
  },
  {
   "cell_type": "code",
   "execution_count": 106,
   "metadata": {
    "colab": {
     "base_uri": "https://localhost:8080/",
     "height": 489
    },
    "id": "CXgHPPi5NKPr",
    "outputId": "5b2f0a48-9a14-4de0-8502-c4de111e3d0c"
   },
   "outputs": [
    {
     "data": {
      "text/plain": [
       "<Axes: title={'center': 'DDD use in Central europe, eastern Europe, and central Asia'}, xlabel='year'>"
      ]
     },
     "execution_count": 106,
     "metadata": {},
     "output_type": "execute_result"
    },
    {
     "data": {
      "image/png": "[encoded data removed]",
      "text/plain": [
       "<Figure size 640x480 with 1 Axes>"
      ]
     },
     "metadata": {},
     "output_type": "display_data"
    }
   ],
   "source": [
    "DDD_panda.groupby(\"year\")[\"Central europe, eastern Europe, and central Asia\"].agg([sum]).plot(title = \"DDD use in Central europe, eastern Europe, and central Asia\" )"
   ]
  },
  {
   "cell_type": "code",
   "execution_count": 107,
   "metadata": {
    "colab": {
     "base_uri": "https://localhost:8080/",
     "height": 489
    },
    "id": "cB2anwf4Nfbf",
    "outputId": "af43f8eb-3f2b-46d8-c4f6-5a7d40ccc6bf"
   },
   "outputs": [
    {
     "data": {
      "text/plain": [
       "<Axes: title={'center': 'DDD use in South Asia'}, xlabel='year'>"
      ]
     },
     "execution_count": 107,
     "metadata": {},
     "output_type": "execute_result"
    },
    {
     "data": {
      "image/png": "[encoded data removed]",
      "text/plain": [
       "<Figure size 640x480 with 1 Axes>"
      ]
     },
     "metadata": {},
     "output_type": "display_data"
    }
   ],
   "source": [
    "DDD_panda.groupby(\"year\")[\"South Asia\"].agg([sum]).plot(title = \"DDD use in South Asia\")"
   ]
  },
  {
   "cell_type": "code",
   "execution_count": 108,
   "metadata": {
    "colab": {
     "base_uri": "https://localhost:8080/",
     "height": 489
    },
    "id": "4MeE-Jn1Oiuc",
    "outputId": "74795762-8475-40b5-aef2-bbf458d841a1"
   },
   "outputs": [
    {
     "data": {
      "text/plain": [
       "<Axes: title={'center': 'DDD use in North Africa and Middle East'}, xlabel='year'>"
      ]
     },
     "execution_count": 108,
     "metadata": {},
     "output_type": "execute_result"
    },
    {
     "data": {
      "image/png": "[encoded data removed]",
      "text/plain": [
       "<Figure size 640x480 with 1 Axes>"
      ]
     },
     "metadata": {},
     "output_type": "display_data"
    }
   ],
   "source": [
    "DDD_panda.groupby(\"year\")[\"North Africa and Middle East\"].agg([sum]).plot(title = \"DDD use in North Africa and Middle East\")"
   ]
  },
  {
   "cell_type": "code",
   "execution_count": 109,
   "metadata": {
    "colab": {
     "base_uri": "https://localhost:8080/",
     "height": 489
    },
    "id": "egBqTVQzOzix",
    "outputId": "a829c5d8-50a0-4301-d85b-f50af32c5a9a"
   },
   "outputs": [
    {
     "data": {
      "text/plain": [
       "<Axes: title={'center': 'DDD use in Southeast Asia, east Asia, and Oceania'}, xlabel='year'>"
      ]
     },
     "execution_count": 109,
     "metadata": {},
     "output_type": "execute_result"
    },
    {
     "data": {
      "image/png": "[encoded data removed]",
      "text/plain": [
       "<Figure size 640x480 with 1 Axes>"
      ]
     },
     "metadata": {},
     "output_type": "display_data"
    }
   ],
   "source": [
    "DDD_panda.groupby(\"year\")[\"Southeast Asia, east Asia, and Oceania\"].agg([sum]).plot(title = \"DDD use in Southeast Asia, east Asia, and Oceania\")"
   ]
  }
 ],
 "metadata": {
  "colab": {
   "provenance": []
  },
  "kernelspec": {
   "display_name": "Python 3 (ipykernel)",
   "language": "python",
   "name": "python3"
  },
  "language_info": {
   "codemirror_mode": {
    "name": "ipython",
    "version": 3
   },
   "file_extension": ".py",
   "mimetype": "text/x-python",
   "name": "python",
   "nbconvert_exporter": "python",
   "pygments_lexer": "ipython3",
   "version": "3.9.13"
  }
 },
 "nbformat": 4,
 "nbformat_minor": 1
}
